{
 "cells": [
  {
   "cell_type": "code",
   "execution_count": 11,
   "metadata": {},
   "outputs": [],
   "source": [
    "import pandas as pd\n",
    "data = pd.read_excel('【第2次】腾讯词清晰标注8000词.xls',index_col=0)\n",
    "name_list = data['word'].tolist()"
   ]
  },
  {
   "cell_type": "code",
   "execution_count": 14,
   "metadata": {},
   "outputs": [],
   "source": [
    "import numpy as np\n",
    "X = data.copy().drop('word',axis=1).drop('相似度',axis=1)"
   ]
  },
  {
   "cell_type": "code",
   "execution_count": 15,
   "metadata": {},
   "outputs": [],
   "source": [
    "#PCA 1,2,3\n",
    "from sklearn.decomposition import PCA\n",
    "ev = PCA(n_components=3).fit_transform(np.array(X))\n",
    "sav = pd.DataFrame(ev)\n",
    "sav.to_excel('降维/PCA3维.xlsx')\n"
   ]
  },
  {
   "cell_type": "code",
   "execution_count": 16,
   "metadata": {},
   "outputs": [],
   "source": [
    "# #TSNE\n",
    "# from sklearn.manifold import TSNE\n",
    "# ev = TSNE(n_components=3).fit_transform(np.array(X))\n",
    "# sav = pd.DataFrame(ev)\n",
    "# sav.to_excel('降维/TSNE3维.xlsx')\n",
    "# ev = TSNE(n_components=2).fit_transform(np.array(X))\n",
    "# sav = pd.DataFrame(ev)\n",
    "# sav.to_excel('降维/TSNE2维.xlsx')\n",
    "# ev = TSNE(n_components=1).fit_transform(np.array(X))\n",
    "# sav = pd.DataFrame(ev)\n",
    "# sav.to_excel('降维/TSNE1维.xlsx')"
   ]
  },
  {
   "cell_type": "code",
   "execution_count": 17,
   "metadata": {},
   "outputs": [],
   "source": [
    "#UMAP\n",
    "import umap\n",
    "ev = umap.UMAP(n_components=3,random_state=33).fit_transform(np.array(X))\n",
    "sav = pd.DataFrame(ev)\n",
    "sav.to_excel('降维/UMAP3维.xlsx')\n"
   ]
  }
 ],
 "metadata": {
  "kernelspec": {
   "display_name": "Python [conda env:pytorch]",
   "language": "python",
   "name": "conda-env-pytorch-py"
  },
  "language_info": {
   "codemirror_mode": {
    "name": "ipython",
    "version": 3
   },
   "file_extension": ".py",
   "mimetype": "text/x-python",
   "name": "python",
   "nbconvert_exporter": "python",
   "pygments_lexer": "ipython3",
   "version": "3.6.10"
  }
 },
 "nbformat": 4,
 "nbformat_minor": 2
}
