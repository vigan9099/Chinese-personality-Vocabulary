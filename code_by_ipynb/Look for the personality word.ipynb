{
 "cells": [
  {
   "cell_type": "markdown",
   "metadata": {},
   "source": [
    "数据包的引入"
   ]
  },
  {
   "cell_type": "code",
   "execution_count": 3,
   "metadata": {},
   "outputs": [],
   "source": [
    "import pandas as pd\n",
    "data = pd.read_excel('人格.xlsx')"
   ]
  },
  {
   "cell_type": "markdown",
   "metadata": {},
   "source": [
    "种子词的导入和分析"
   ]
  },
  {
   "cell_type": "code",
   "execution_count": 4,
   "metadata": {},
   "outputs": [],
   "source": [
    "words_list = []  # 种子词列表\n",
    "for word in data['word']:\n",
    "    # word = str(word[:-1])\n",
    "    words_list.append(word)"
   ]
  },
  {
   "cell_type": "markdown",
   "metadata": {},
   "source": [
    "各个词向量库的引入"
   ]
  },
  {
   "cell_type": "code",
   "execution_count": 1,
   "metadata": {},
   "outputs": [
    {
     "name": "stdout",
     "output_type": "stream",
     "text": [
      "知乎词向量读取完毕，共耗时 86.11993741989136\n"
     ]
    }
   ],
   "source": [
    "import time\n",
    "import gensim\n",
    "from gensim.models import KeyedVectors\n",
    "tic = time.time()\n",
    "wvmodel_zhihu = gensim.models.KeyedVectors.load_word2vec_format('E:\\pyproject/网络暴力语义模型/embedding/sgns.wiki.bigram-char/sgns.wiki.bigram-char', binary=False, encoding='utf-8')\n",
    "toc = time.time()\n",
    "print('知乎词向量读取完毕，共耗时',toc - tic)"
   ]
  },
  {
   "cell_type": "code",
   "execution_count": 7,
   "metadata": {},
   "outputs": [],
   "source": [
    "model_list = [wvmodel_zhihu]\n",
    "model_name = ['知乎']"
   ]
  },
  {
   "cell_type": "markdown",
   "metadata": {},
   "source": [
    "通过种子词在各个词向量找词  \n",
    "  \n",
    "  \n",
    "有些词向量库比较少可能会有些种子词没有，计算每个词向量库里没有种子词的个数，如我们有4500个种子词，去腾讯里找有4450个都能找到，微博只能找到4300个，把***找不到的词个数***打印出来  \n",
    "\n",
    " "
   ]
  },
  {
   "cell_type": "code",
   "execution_count": 90,
   "metadata": {},
   "outputs": [],
   "source": [
    "sim_word=[]  # 种子词的相似词列表（不含种子词）\n",
    "sim_score=[]  # 种子词的相似词的相似度列表（不含种子词的相似度）\n",
    "word_dict = dict()  # 种子词对应的相似词及其相似度（索引为种子词），类型为字典"
   ]
  },
  {
   "cell_type": "code",
   "execution_count": 91,
   "metadata": {},
   "outputs": [],
   "source": [
    "# 获取种子词的相似词\n",
    "def similar(word, n):\n",
    "    sim_word.append(word)  # 把种子词也加进去\n",
    "    sim_score.append(1)  # 把种子词的相似度设置为1\n",
    "    for k,v in enumerate(model_list):\n",
    "        try:\n",
    "            print(model_name[k],'词向量的近义词有：')\n",
    "            sim_word_all = v.similar_by_word(word,n)\n",
    "            print(sim_word_all)  # similar_by_word查询相似词的函数\n",
    "            for i in sim_word_all:\n",
    "                sim_word.append(i[0])\n",
    "                sim_score.append(i[1])\n",
    "        except:\n",
    "            print('  ',model_name[k],'没有这个词向量！')\n",
    "    word_dict[word] = sim_word_all\n",
    "    return word_dict"
   ]
  },
  {
   "cell_type": "code",
   "execution_count": 93,
   "metadata": {},
   "outputs": [
    {
     "name": "stdout",
     "output_type": "stream",
     "text": [
      "知乎 词向量的近义词有：\n",
      "[('坚韧', 0.6857811212539673), ('坚强不屈', 0.6670145988464355), ('顽强', 0.6364516019821167), ('意志坚强', 0.6171771287918091), ('自立自强', 0.6087257266044617), ('坚强意志', 0.6066881418228149), ('坚忍', 0.5998225808143616), ('坚强有力', 0.5984676480293274), ('顽强不屈', 0.5948199033737183), ('倔强', 0.5790250301361084)]\n",
      "知乎 词向量的近义词有：\n",
      "[('恒心', 0.7390313148498535), ('恒产', 0.7020112872123718), ('有心力', 0.6734508872032166), ('有耐性', 0.64842689037323), ('有雄心', 0.6223731637001038), ('耐劳', 0.6123228669166565), ('慎独', 0.6103730797767639), ('持之以恒', 0.608677327632904), ('毅力', 0.6084325313568115), ('真有心', 0.6019397974014282)]\n",
      "知乎 词向量的近义词有：\n",
      "[('悲观', 0.6393377184867859), ('乐观者', 0.6294472813606262), ('开朗', 0.6082187294960022), ('乐观主义', 0.5842574834823608), ('达观', 0.5790619850158691), ('豁达', 0.5722959041595459), ('消极悲观', 0.5676023364067078), ('乐天派', 0.5523432493209839), ('不容乐观', 0.5469223856925964), ('悲观主义', 0.5427084565162659)]\n"
     ]
    }
   ],
   "source": [
    "for word in words_list:\n",
    "    similar(word, 10)"
   ]
  },
  {
   "cell_type": "code",
   "execution_count": 94,
   "metadata": {},
   "outputs": [
    {
     "name": "stdout",
     "output_type": "stream",
     "text": [
      "['坚强', '坚韧', '坚强不屈', '顽强', '意志坚强', '自立自强', '坚强意志', '坚忍', '坚强有力', '顽强不屈', '倔强', '有恒心', '恒心', '恒产', '有心力', '有耐性', '有雄心', '耐劳', '慎独', '持之以恒', '毅力', '真有心', '乐观', '悲观', '乐观者', '开朗', '乐观主义', '达观', '豁达', '消极悲观', '乐天派', '不容乐观', '悲观主义']\n",
      "[1, 0.6857811212539673, 0.6670145988464355, 0.6364516019821167, 0.6171771287918091, 0.6087257266044617, 0.6066881418228149, 0.5998225808143616, 0.5984676480293274, 0.5948199033737183, 0.5790250301361084, 1, 0.7390313148498535, 0.7020112872123718, 0.6734508872032166, 0.64842689037323, 0.6223731637001038, 0.6123228669166565, 0.6103730797767639, 0.608677327632904, 0.6084325313568115, 0.6019397974014282, 1, 0.6393377184867859, 0.6294472813606262, 0.6082187294960022, 0.5842574834823608, 0.5790619850158691, 0.5722959041595459, 0.5676023364067078, 0.5523432493209839, 0.5469223856925964, 0.5427084565162659]\n"
     ]
    }
   ],
   "source": [
    "print(sim_word)\n",
    "print(sim_score)"
   ]
  },
  {
   "cell_type": "code",
   "execution_count": null,
   "metadata": {},
   "outputs": [],
   "source": [
    "# def get_vec(words_list,wvmodel):  # 获取词向量的函数（空间位置）\n",
    "#     my_vector_dict = {}\n",
    "#     for word in words_list:\n",
    "# #         word = str(word[:-1])\n",
    "#         try:\n",
    "#             my_vector_dict[word] = wvmodel.get_vector(word)\n",
    "#         except Exception as e:\n",
    "#             print(e)\n",
    "#             print(word,'没有找到对应的向量')\n",
    "#             continue\n",
    "#     name_list = []\n",
    "#     vec_list = []\n",
    "#     for k in my_vector_dict:\n",
    "#         name_list.append(k)\n",
    "#         vec_list.append(my_vector_dict[k])\n",
    "#     return name_list,vec_list"
   ]
  },
  {
   "cell_type": "code",
   "execution_count": 95,
   "metadata": {},
   "outputs": [
    {
     "name": "stdout",
     "output_type": "stream",
     "text": [
      "{'坚强': [('坚韧', 0.6857811212539673), ('坚强不屈', 0.6670145988464355), ('顽强', 0.6364516019821167), ('意志坚强', 0.6171771287918091), ('自立自强', 0.6087257266044617), ('坚强意志', 0.6066881418228149), ('坚忍', 0.5998225808143616), ('坚强有力', 0.5984676480293274), ('顽强不屈', 0.5948199033737183), ('倔强', 0.5790250301361084)], '有恒心': [('恒心', 0.7390313148498535), ('恒产', 0.7020112872123718), ('有心力', 0.6734508872032166), ('有耐性', 0.64842689037323), ('有雄心', 0.6223731637001038), ('耐劳', 0.6123228669166565), ('慎独', 0.6103730797767639), ('持之以恒', 0.608677327632904), ('毅力', 0.6084325313568115), ('真有心', 0.6019397974014282)], '乐观': [('悲观', 0.6393377184867859), ('乐观者', 0.6294472813606262), ('开朗', 0.6082187294960022), ('乐观主义', 0.5842574834823608), ('达观', 0.5790619850158691), ('豁达', 0.5722959041595459), ('消极悲观', 0.5676023364067078), ('乐天派', 0.5523432493209839), ('不容乐观', 0.5469223856925964), ('悲观主义', 0.5427084565162659)]}\n"
     ]
    }
   ],
   "source": [
    "print(word_dict)"
   ]
  },
  {
   "cell_type": "code",
   "execution_count": 96,
   "metadata": {},
   "outputs": [],
   "source": [
    "name_list = []  # 词列表\n",
    "vec_list = []  # 向量列表\n",
    "# for seed_word in word_dict.keys():\n",
    "#     print(seed_word)\n",
    "#     for sim_word in word_dict[seed_word]:\n",
    "#         print(sim_word[0])"
   ]
  },
  {
   "cell_type": "code",
   "execution_count": 64,
   "metadata": {
    "scrolled": true
   },
   "outputs": [],
   "source": [
    "# 获取词向量\n",
    "def get_vec(word_dict, wvmodel):\n",
    "    my_vector_dict = dict()\n",
    "    for seed_word in word_dict.keys():  # 遍历字典的key\n",
    "        try:\n",
    "            my_vector_dict[seed_word] = wvmodel.get_vector(word)  # 获取字典key的向量\n",
    "        except Exception as e:\n",
    "            print(word, '没有找到对应的向量')\n",
    "            continue\n",
    "        for sim_word in word_dict[seed_word]:  # 获取种子词的的相似词\n",
    "            try:\n",
    "                my_vector_dict[sim_word[0]] = wvmodel.get_vector(sim_word[0])  # 获取相似词的向量\n",
    "            except Exception as e:\n",
    "                print(word, '没有找到对应的向量')\n",
    "                continue\n",
    "    for k,v in my_vector_dict.items():\n",
    "        name_list.append(k)  # 存放词的列表（包括种子词）\n",
    "        vec_list.append(v)  # 存放对应的词向量的列表（包括种子词）\n",
    "    return name_list, vec_list"
   ]
  },
  {
   "cell_type": "code",
   "execution_count": 97,
   "metadata": {},
   "outputs": [],
   "source": [
    "result = get_vec(word_dict, wvmodel_zhihu)"
   ]
  },
  {
   "cell_type": "code",
   "execution_count": 99,
   "metadata": {},
   "outputs": [
    {
     "name": "stdout",
     "output_type": "stream",
     "text": [
      "33\n",
      "33\n"
     ]
    }
   ],
   "source": [
    "print(len(vec_list))\n",
    "print(len(name_list))\n",
    "# print(len(vec_list[0]))\n",
    "# 验证是否正确获取\n",
    "# for i in range(len(vec_list)-1):\n",
    "#     for j in range(len(vec_list[i])):\n",
    "#         if vec_list[i][j] != vec_list[i+1][j]:\n",
    "#             print(True)\n",
    "#             break"
   ]
  },
  {
   "cell_type": "code",
   "execution_count": 78,
   "metadata": {},
   "outputs": [],
   "source": [
    "# # 保存到excel\n",
    "# import xlsxwriter\n",
    "# def generate_excel(name_list, vec_list,sim_score):\n",
    "#     total_num = len(name_list)  # 获取总词量\n",
    "#     vec_num = len(vec_list[0])  # 获取总维度量\n",
    "#     workbook = xlsxwriter.Workbook('./【' + str(total_num) + '】知乎人格词.xlsx')\n",
    "#     worksheet = workbook.add_worksheet('sheet1')\n",
    "    \n",
    "#     worksheet.write(0, 0, 'word')\n",
    "#     for i in range(vec_num):\n",
    "#         worksheet.write(0, i+1, i)\n",
    "#     worksheet.write(0, vec_num+1, 'sim_score')\n",
    "    \n",
    "#     row = 1\n",
    "#     col = 0\n",
    "#     for i in range(total_num):\n",
    "#         worksheet.write(row+i, col, name_list[i])\n",
    "#     col += 1\n",
    "#     for i in range(total_num):\n",
    "#         for j in range(vec_num):\n",
    "#             worksheet.write(row, col+j, str(vec_list[i][j]))\n",
    "#         row += 1\n",
    "#     row = 1\n",
    "#     for i in range(total_num):\n",
    "#         worksheet.write(row+i, col+vec_num, str(sim_score[i]))\n",
    "#     workbook.close()\n",
    "#     return True"
   ]
  },
  {
   "cell_type": "code",
   "execution_count": 100,
   "metadata": {},
   "outputs": [],
   "source": [
    "# 保存到excel\n",
    "import xlsxwriter\n",
    "def generate_excel(name_list, vec_list,sim_score):\n",
    "    total_num = len(name_list)  # 获取总词量\n",
    "    vec_num = len(vec_list[0])  # 获取总维度量\n",
    "    workbook = xlsxwriter.Workbook('./【' + str(total_num) + '】知乎人格词.xlsx')\n",
    "    worksheet = workbook.add_worksheet('sheet1')\n",
    "   \n",
    "    # 写入标题\n",
    "    worksheet.write(0, 0, 'word')\n",
    "    for i in range(vec_num):\n",
    "        worksheet.write(0, i+1, i)\n",
    "    worksheet.write(0, vec_num+1, 'sim_score')\n",
    "    \n",
    "    # 写入数据\n",
    "    row = 1\n",
    "    col = 0\n",
    "    for i in range(total_num):\n",
    "        worksheet.write(row+i, col, name_list[i])\n",
    "#     col += 1\n",
    "#     for i in range(total_num):\n",
    "        for j in range(vec_num):\n",
    "            worksheet.write(row+i, col+1+j, str(vec_list[i][j]))\n",
    "        \n",
    "#     for i in range(total_num):\n",
    "        worksheet.write(row+i, col+1+vec_num, str(sim_score[i]))\n",
    "    \n",
    "    workbook.close()\n",
    "    return True"
   ]
  },
  {
   "cell_type": "markdown",
   "metadata": {},
   "source": [
    "保存各个词向量找到的***词，词向量和与种子词的相似程度***成Excel，文件名为：“【词个数（用len对列表取值）】腾讯人格词”，如【17854】腾讯词，【155432】微博人格词，***共5个词向量库，一共五个文件** \n",
    "\n",
    "文件内的格式如下：   \n",
    "\n",
    "字段1：词   字段2~201：200【腾讯是200】或300维的词向量【微博和人民日报等是300】  字段202：与种子词的相似程度   \n",
    "\n",
    "***这里记得把种子词也要添加进列表里，把种子词的词向量也get_vector一下，将相似度设置为1即可，   ***  \n",
    "\n",
    "提示：这里可以再找完所有的人格词以后，在直接append把种子词也放进列表里，相似度最后再excel里把所有空的相似度填1就可以，不需要打代码实现***"
   ]
  },
  {
   "cell_type": "code",
   "execution_count": 101,
   "metadata": {},
   "outputs": [
    {
     "data": {
      "text/plain": [
       "True"
      ]
     },
     "execution_count": 101,
     "metadata": {},
     "output_type": "execute_result"
    }
   ],
   "source": [
    "generate_excel(name_list, vec_list, sim_score)"
   ]
  },
  {
   "cell_type": "markdown",
   "metadata": {},
   "source": [
    "以上为一个代码文件，命名为：找人格词.ipynb"
   ]
  }
 ],
 "metadata": {
  "kernelspec": {
   "display_name": "Python [conda env:pytorch]",
   "language": "python",
   "name": "conda-env-pytorch-py"
  },
  "language_info": {
   "codemirror_mode": {
    "name": "ipython",
    "version": 3
   },
   "file_extension": ".py",
   "mimetype": "text/x-python",
   "name": "python",
   "nbconvert_exporter": "python",
   "pygments_lexer": "ipython3",
   "version": "3.6.10"
  }
 },
 "nbformat": 4,
 "nbformat_minor": 2
}
